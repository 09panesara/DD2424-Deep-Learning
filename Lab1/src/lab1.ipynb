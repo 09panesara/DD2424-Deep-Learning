{
 "cells": [
  {
   "cell_type": "markdown",
   "metadata": {},
   "source": [
    "# One Layer Classifier"
   ]
  },
  {
   "cell_type": "code",
   "execution_count": 42,
   "metadata": {},
   "outputs": [],
   "source": [
    "import numpy as np\n",
    "import os\n",
    "np.random.seed(19)"
   ]
  },
  {
   "cell_type": "code",
   "execution_count": 58,
   "metadata": {},
   "outputs": [],
   "source": [
    "from sklearn import preprocessing\n",
    "import pickle\n",
    "\n",
    "class CIFAR10Data():\n",
    "    def __init__(self):\n",
    "        self.batches = {}\n",
    "        self.dataset_dir = '../datasets/'\n",
    "        self.label_1hot_encoder = preprocessing.LabelBinarizer()\n",
    "        self.label_1hot_encoder.fit([x for x in range(10)])\n",
    "        \n",
    "    def one_hot_encode(self, labels):\n",
    "        return self.label_1hot_encoder.transform(labels)\n",
    "    \n",
    "    def load_batch(self, batch_name):\n",
    "        \n",
    "        if batch_name not in self.batches:\n",
    "            with open(self.dataset_dir + 'cifar-10-batches-py/' + batch_name, 'rb') as f:\n",
    "                data = pickle.load(f, encoding='bytes')\n",
    "\n",
    "            data[b'labels'] = np.array(data[b'labels'])\n",
    "            self.batches[batch_name] = {\n",
    "                'X': np.divide(data[b'data'], 255),\n",
    "                'Y': self.one_hot_encode(data[b'labels']),\n",
    "            }\n",
    "        # transpose to be dimensionality by number of samples (for OneLayerClassifier)\n",
    "        return self.batches[batch_name]['X'].T, self.batches[batch_name]['Y'].T\n",
    "    \n",
    "    def load_batches(self, batch_names):\n",
    "        batches = [self.get_batch(batch) for batch in batch_names]\n",
    "        X = np.vstack([batch[0] for batch in batches])\n",
    "        Y = np.vstack([batch[1] for batch in batches])\n",
    "        return X.T, Y.T "
   ]
  },
  {
   "cell_type": "code",
   "execution_count": 195,
   "metadata": {},
   "outputs": [],
   "source": [
    "import numpy as np\n",
    "import scipy\n",
    "import pickle\n",
    "import matplotlib.pyplot as plt\n",
    "from keras.datasets import cifar100\n",
    "import urllib\n",
    "\n",
    "class OneLayerClassifer:\n",
    "    def __init__(self, n_classes, input_dim, batch_size=100, eta=0.001, n_epochs=20, lamda=0):\n",
    "        self.batch_size = batch_size # number of images in a batch\n",
    "        self.eta = eta\n",
    "        self.n_epochs = n_epochs\n",
    "        self.lamda = lamda\n",
    "        \n",
    "        # initialise weight matrix and bias\n",
    "        self.W = np.random.normal(loc=0, scale=0.01, size=(n_classes, input_dim)) \n",
    "        self.b = np.random.normal(loc=0, scale=0.01, size=n_classes)\n",
    "        \n",
    "\n",
    "    def normalise(self, train_X, val_X, test_X):\n",
    "        ''' X has shape (d,n) where d = dimensionality of each image, n is number of images '''\n",
    "        mean = np.mean(train_X, axis=1)\n",
    "        std = np.std(train_X, axis=1)\n",
    "        # apply same transformation to all of the datasets using params from train set\n",
    "        \n",
    "        def _normalise_helper(a, m, s):\n",
    "            return ((a.T-m)/s).T \n",
    "        \n",
    "        train_X = _normalise_helper(train_X, mean, std)\n",
    "        val_X = _normalise_helper(val_X, mean, std)\n",
    "        test_X = _normalise_helper(test_X, mean, std)\n",
    "        return train_X, val_X, test_X\n",
    "\n",
    "    \n",
    "    def evaluate_classifier(self, X):\n",
    "        S = (np.dot(self.W, X).T + self.b).T\n",
    "        P = self.softmax(S)\n",
    "        predictions = np.argmax(P)\n",
    "        return predictions\n",
    "    \n",
    "\n",
    "    def softmax(self, x):\n",
    "        # TODO check axis=0 \n",
    "        return np.exp(x) / np.sum(np.exp(x), axis=0)\n",
    "    \n",
    "\n",
    "    def lcross(self, X, Y, W, b):\n",
    "        S = np.dot(W, X) + b\n",
    "        P = self.softmax(S)\n",
    "        \n",
    "        l_cross = -np.log(p_y)\n",
    "        return l_cross\n",
    "    \n",
    "\n",
    "    def compute_accuracy(self, X, y):\n",
    "        ''' X is data, y is gt, W is weight matrix, b is bias'''\n",
    "        pred = self.evaluate_classifier(X)\n",
    "        accuracy = np.mean(pred == y)\n",
    "        return pred, accuracy\n",
    "    \n",
    "    \n",
    "    def compute_cost(self, X, Y, W, b, lamda):\n",
    "        ''' X: dxn (dimensionality by # images)\n",
    "            Y: Kxn (no. classes one-hot encoded by # images)\n",
    "            J: scalar corresponding to sum of loss of ntwks predictions of X relative to gt labels '''\n",
    "        N = X.shape[1]\n",
    "        lcross = self.compute_cost(X, Y, W, b)\n",
    "        J = (np.trace(lcross) / N) + (lamda * np.sum(W*W))\n",
    "        return J\n",
    "\n",
    "\n",
    "    def compute_grads_num(self, X, Y, P, W, b, lamda, h):\n",
    "        \"\"\" Converted from matlab code \"\"\"\n",
    "        N = W.shape[0]\n",
    "        D = X.shape[0]\n",
    "\n",
    "        grad_W = np.zeros(W.shape);\n",
    "        grad_b = np.zeros((N, 1));\n",
    "\n",
    "        c = self.compute_cost(X, Y, W, b, lamda);\n",
    "\n",
    "        for i in range(len(b)):\n",
    "            print(i)\n",
    "            b_try = np.copy(b)\n",
    "            b_try[i] += h\n",
    "            c2 = self.compute_cost(X, Y, W, b_try, lamda)\n",
    "            grad_b[i] = (c2-c) / h\n",
    "\n",
    "        for i in range(W.shape[0]):\n",
    "            for j in range(W.shape[1]):\n",
    "                W_try = W\n",
    "                W_try[i,j] += h\n",
    "                c2 = self.compute_cost(X, Y, W_try, b, lamda)\n",
    "                grad_W[i,j] = (c2-c) / h\n",
    "\n",
    "        return grad_W, grad_b\n",
    "\n",
    "    \n",
    "    def compute_grads_num_slow(self, X, Y, P, W, b, lamda, h):\n",
    "        \"\"\" Converted from matlab code \"\"\"\n",
    "        N = W.shape[0]\n",
    "        D = X.shape[0]\n",
    "\n",
    "        grad_W = np.zeros(W.shape);\n",
    "        grad_b = np.zeros((N, 1));\n",
    "\n",
    "        for i in range(len(b)):\n",
    "            b_try = np.copy(b)\n",
    "            b_try[i] -= h\n",
    "            c1 = compute_cost(X, Y, W, b_try, lamda)\n",
    "\n",
    "            b_try = np.copy(b)\n",
    "            b_try[i] += h\n",
    "            c2 = compute_cost(X, Y, W, b_try, lamda)\n",
    "\n",
    "            grad_b[i] = (c2-c1) / (2*h)\n",
    "\n",
    "        for i in range(W.shape[0]):\n",
    "            for j in range(W.shape[1]):\n",
    "                W_try = W\n",
    "                W_try[i,j] -= h\n",
    "                c1 = compute_cost(X, Y, W_try, b, lamda)\n",
    "\n",
    "                W_try = W\n",
    "                W_try[i,j] += h\n",
    "                c2 = compute_cost(X, Y, W_try, b, lamda)\n",
    "\n",
    "                grad_W[i,j] = (c2-c1) / (2*h)\n",
    "\n",
    "        return grad_W, grad_b\n",
    "    \n",
    "    def compare_gradients(self, g_n, g_a, eps=0.000001):\n",
    "        err = np.linalg.norm(g_a-g_n) / np.max(eps, np.linalg.norm(g_a) + np.linalg.norm(g_n))\n",
    "        print('relative error', err)\n",
    "        return err\n",
    "        \n",
    "    \n",
    "    def compute_gradients(self, X, Y, W, eta, loss='cross_entropy'):\n",
    "        ''' computes gradients of the cost function wrt W and b for batch X '''\n",
    "        # forward pass\n",
    "        predictions = np.dot(W, X) \n",
    "        predicitons = (predictions.T + b).T \n",
    "        P = self.softmax(predictions)\n",
    "        \n",
    "        # backward pass\n",
    "        if loss == 'cross_entropy':\n",
    "            G = -(Y - P)\n",
    "        elif loss == 'svm':\n",
    "            G = None # TODO for svm loss\n",
    "        else:\n",
    "            raise Exception('incorrect loss') \n",
    "            \n",
    "        batch_size = np.shape(X)[1]\n",
    "        \n",
    "        # J = L(D,W,b) + lamda|W|^2\n",
    "        # dJ/dW = dL/dW + 2 lambda |W| \n",
    "        grad_W = (np.dot(G, X.T) /  batch_size) + 2 * self.lamda * W\n",
    "        grad_b = np.sum(G, axis=1) / batch_size\n",
    "#         grad_b.reshape((grad_b.shape[0],1))\n",
    "#         print('grad_b shape', grad_b.shape)\n",
    "        return grad_W, grad_b\n",
    "    \n",
    "    \n",
    "    def train(self, X, Y, random_shuffle=False):\n",
    "        n = X.shape[1]\n",
    "        number_of_batches = int(n / self.batch_size)\n",
    "        if random_shuffle:\n",
    "            pass\n",
    "        \n",
    "        for epoch in range(self.n_epochs):\n",
    "            if (epoch % 1000) == 0:\n",
    "                print('epoch', epoch)\n",
    "            for j in range(number_of_batches):\n",
    "                j_start = j * self.batch_size\n",
    "                j_end = (j+1) * self.batch_size\n",
    "                Xbatch = X[:, j_start:j_end]\n",
    "                Ybatch = Y[:, j_start:j_end]\n",
    "    \n",
    "                # Perform MiniBatch Gradient Descent\n",
    "                grad_W, grad_b = self.compute_gradients(Xbatch, Ybatch, self.W, self.eta)\n",
    "                self.W -= self.eta * grad_W\n",
    "                self.b -= (self.eta *  grad_b)\n",
    "                \n",
    "                \n",
    "    def montage(self):\n",
    "        \"\"\" Display the image for each label in W \"\"\"\n",
    "        W = self.W\n",
    "        fig, ax = plt.subplots(2,5)\n",
    "        for i in range(2):\n",
    "            for j in range(5):\n",
    "#                 im  = W[i+j,:].reshape(32,32,3, order='F')\n",
    "                im  = W[5*i+j,:].reshape(32,32,3, order='F')\n",
    "                sim = (im-np.min(im[:]))/(np.max(im[:])-np.min(im[:]))\n",
    "                sim = sim.transpose(1,0,2)\n",
    "                ax[i][j].imshow(sim, interpolation='nearest')\n",
    "                ax[i][j].set_title(\"y=\"+str(5*i+j))\n",
    "                ax[i][j].axis('off')\n",
    "        plt.show()\n"
   ]
  },
  {
   "cell_type": "markdown",
   "metadata": {},
   "source": [
    "## Classification using Cross-Entropy Loss"
   ]
  },
  {
   "cell_type": "markdown",
   "metadata": {},
   "source": [
    "We first train the classifier using Batch 1 as the training dataset, Batch 2 as the validation set, and test_batch as the test dataset."
   ]
  },
  {
   "cell_type": "code",
   "execution_count": 192,
   "metadata": {},
   "outputs": [],
   "source": [
    "CIFARDATA = CIFAR10Data()\n",
    "train_X, train_Y = CIFARDATA.load_batch('data_batch_1')\n",
    "val_X, val_Y = CIFARDATA.load_batch('data_batch_2')\n",
    "test_X, test_Y = CIFARDATA.load_batch('test_batch')\n"
   ]
  },
  {
   "cell_type": "code",
   "execution_count": 196,
   "metadata": {},
   "outputs": [],
   "source": [
    "def train_model(params, datasets):\n",
    "    train_X, train_Y, val_X, val_Y, test_X, test_Y = datasets\n",
    "    n_classes = train_Y.shape[0]\n",
    "    input_dim = train_X.shape[0]\n",
    "    clf = OneLayerClassifer(n_classes, input_dim, params['batch_size'], params['eta'], params['n_epochs'], params['lamda'])\n",
    "    train_X, val_X, test_X = clf.normalise(train_X, val_X, test_X)\n",
    "    random_shuffle = params['random_shuffle'] if 'random_shuffle' in params else False\n",
    "    clf.train(train_X, train_Y, random_shuffle)\n",
    "    # plot graph of total loss\n",
    "    # plot graph of cost function\n",
    "    # get image of weight matrix\n",
    "    clf.montage()\n",
    "    predictions, accuracy = clf.compute_accuracy(val_X, val_Y)\n",
    "    return accuracy\n"
   ]
  },
  {
   "cell_type": "code",
   "execution_count": 198,
   "metadata": {},
   "outputs": [
    {
     "name": "stdout",
     "output_type": "stream",
     "text": [
      "epoch 0\n"
     ]
    },
    {
     "data": {
      "image/png": "[encoded data removed]",
      "text/plain": [
       "<Figure size 432x288 with 10 Axes>"
      ]
     },
     "metadata": {
      "needs_background": "light"
     },
     "output_type": "display_data"
    },
    {
     "data": {
      "text/plain": [
       "0.0"
      ]
     },
     "execution_count": 198,
     "metadata": {},
     "output_type": "execute_result"
    }
   ],
   "source": [
    "datasets = [train_X, train_Y , val_X, val_Y, test_X , test_Y]\n",
    "base_params = {'batch_size':100, 'eta':0.001, 'n_epochs':1000, 'lamda':0}\n",
    "train_model(base_params, datasets)"
   ]
  },
  {
   "cell_type": "markdown",
   "metadata": {},
   "source": [
    "###  Plots graphs for training and validation"
   ]
  },
  {
   "cell_type": "markdown",
   "metadata": {},
   "source": [
    "### Explore different Parameter Settings"
   ]
  },
  {
   "cell_type": "code",
   "execution_count": 164,
   "metadata": {},
   "outputs": [
    {
     "ename": "NameError",
     "evalue": "name 'train_model' is not defined",
     "output_type": "error",
     "traceback": [
      "\u001b[0;31m---------------------------------------------------------------------------\u001b[0m",
      "\u001b[0;31mNameError\u001b[0m                                 Traceback (most recent call last)",
      "\u001b[0;32m<ipython-input-164-353c8efc7445>\u001b[0m in \u001b[0;36m<module>\u001b[0;34m\u001b[0m\n\u001b[1;32m      7\u001b[0m \u001b[0mtest_results\u001b[0m \u001b[0;34m=\u001b[0m \u001b[0;34m[\u001b[0m\u001b[0;34m]\u001b[0m\u001b[0;34m\u001b[0m\u001b[0;34m\u001b[0m\u001b[0m\n\u001b[1;32m      8\u001b[0m \u001b[0;32mfor\u001b[0m \u001b[0mparam\u001b[0m \u001b[0;32min\u001b[0m \u001b[0mparams\u001b[0m\u001b[0;34m:\u001b[0m\u001b[0;34m\u001b[0m\u001b[0;34m\u001b[0m\u001b[0m\n\u001b[0;32m----> 9\u001b[0;31m     \u001b[0mval_accuracy\u001b[0m \u001b[0;34m=\u001b[0m \u001b[0mtrain_model\u001b[0m\u001b[0;34m(\u001b[0m\u001b[0mbatch_size\u001b[0m\u001b[0;34m=\u001b[0m\u001b[0mparam\u001b[0m\u001b[0;34m[\u001b[0m\u001b[0;34m'batch_size'\u001b[0m\u001b[0;34m]\u001b[0m\u001b[0;34m,\u001b[0m \u001b[0meta\u001b[0m\u001b[0;34m=\u001b[0m\u001b[0mparam\u001b[0m\u001b[0;34m[\u001b[0m\u001b[0;34m'eta'\u001b[0m\u001b[0;34m]\u001b[0m\u001b[0;34m,\u001b[0m \u001b[0mn_epochs\u001b[0m\u001b[0;34m=\u001b[0m\u001b[0mparam\u001b[0m\u001b[0;34m[\u001b[0m\u001b[0;34m'n_epochs'\u001b[0m\u001b[0;34m]\u001b[0m\u001b[0;34m,\u001b[0m \u001b[0mlamda\u001b[0m\u001b[0;34m=\u001b[0m\u001b[0mparam\u001b[0m\u001b[0;34m[\u001b[0m\u001b[0;34m'lamda'\u001b[0m\u001b[0;34m]\u001b[0m\u001b[0;34m)\u001b[0m\u001b[0;34m\u001b[0m\u001b[0;34m\u001b[0m\u001b[0m\n\u001b[0m\u001b[1;32m     10\u001b[0m     \u001b[0mtest_results\u001b[0m\u001b[0;34m.\u001b[0m\u001b[0mappend\u001b[0m\u001b[0;34m(\u001b[0m\u001b[0;34m{\u001b[0m\u001b[0;34m**\u001b[0m\u001b[0mp\u001b[0m\u001b[0;34m,\u001b[0m \u001b[0;34m'val_accuracy'\u001b[0m\u001b[0;34m:\u001b[0m \u001b[0maccuracy\u001b[0m\u001b[0;34m}\u001b[0m\u001b[0;34m)\u001b[0m\u001b[0;34m\u001b[0m\u001b[0;34m\u001b[0m\u001b[0m\n\u001b[1;32m     11\u001b[0m \u001b[0;34m\u001b[0m\u001b[0m\n",
      "\u001b[0;31mNameError\u001b[0m: name 'train_model' is not defined"
     ]
    }
   ],
   "source": [
    "params = [{'lamda': 0,   'epochs':  40, 'batch_size': 100, 'eta': .1},\n",
    "            {'lamda': 0,   'epochs':  40, 'batch_size': 100, 'eta': .01},\n",
    "            {'lamda': 0.1, 'epochs':  40, 'batch_size': 100, 'eta': .01},\n",
    "            {'lamda': 1,   'epochs':  40, 'batch_size': 100, 'eta': .01},\n",
    "        ]\n",
    "\n",
    "test_results = []\n",
    "for param in params:\n",
    "    val_accuracy = train_model(batch_size=param['batch_size'], eta=param['eta'], n_epochs=param['n_epochs'], lamda=param['lamda'])\n",
    "    test_results.append({**p, 'val_accuracy': accuracy})\n",
    "    \n",
    "df_test = pd.DataFrame(test_results)\n",
    "df_test"
   ]
  },
  {
   "cell_type": "code",
   "execution_count": 172,
   "metadata": {},
   "outputs": [],
   "source": [
    "a = [0,1]\n",
    "b, c = a"
   ]
  },
  {
   "cell_type": "code",
   "execution_count": 173,
   "metadata": {},
   "outputs": [
    {
     "data": {
      "text/plain": [
       "0"
      ]
     },
     "execution_count": 173,
     "metadata": {},
     "output_type": "execute_result"
    }
   ],
   "source": [
    "b"
   ]
  },
  {
   "cell_type": "code",
   "execution_count": 174,
   "metadata": {},
   "outputs": [
    {
     "data": {
      "text/plain": [
       "1"
      ]
     },
     "execution_count": 174,
     "metadata": {},
     "output_type": "execute_result"
    }
   ],
   "source": [
    "c"
   ]
  },
  {
   "cell_type": "code",
   "execution_count": null,
   "metadata": {},
   "outputs": [],
   "source": []
  }
 ],
 "metadata": {
  "kernelspec": {
   "display_name": "venv-anns",
   "language": "python",
   "name": "venv-anns"
  },
  "language_info": {
   "codemirror_mode": {
    "name": "ipython",
    "version": 3
   },
   "file_extension": ".py",
   "mimetype": "text/x-python",
   "name": "python",
   "nbconvert_exporter": "python",
   "pygments_lexer": "ipython3",
   "version": "3.6.7"
  }
 },
 "nbformat": 4,
 "nbformat_minor": 2
}
