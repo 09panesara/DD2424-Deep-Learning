{
 "cells": [
  {
   "cell_type": "markdown",
   "metadata": {},
   "source": [
    "# Lab 4 - RNN "
   ]
  },
  {
   "cell_type": "code",
   "execution_count": 1,
   "metadata": {},
   "outputs": [],
   "source": [
    "import numpy as np\n",
    "import scipy\n",
    "import pickle\n",
    "import matplotlib.pyplot as plt\n",
    "import pandas as pd"
   ]
  },
  {
   "cell_type": "markdown",
   "metadata": {},
   "source": [
    "## RNN Back Propagation and AdaGrad"
   ]
  },
  {
   "cell_type": "code",
   "execution_count": 43,
   "metadata": {},
   "outputs": [],
   "source": [
    "from sklearn import preprocessing\n",
    "\n",
    "class RNN:\n",
    "    def __init__(self):\n",
    "        pass\n",
    "    \n",
    "    def init_one_hot(self, chars):\n",
    "        ''' takes in list set of all characters in test'''\n",
    "        self.K = len(chars)\n",
    "        self.one_hot_encoder = preprocessing.LabelBinarizer()\n",
    "        self.one_hot_encoder.fit(book_chars)\n",
    "    \n",
    "    def one_hot_encode(self, seq):\n",
    "        ''' converts string of characters into vector of one hot encoded labels'''\n",
    "        seq_list = []\n",
    "        seq_list[:0] = seq \n",
    "        return self.one_hot_encoder.transform(seq_list)\n",
    "\n",
    "    def one_hot_to_characters(self, x):\n",
    "        ''' takes in array of one hot encodings and converts back into characters '''\n",
    "        chars_list = self.one_hot_encoder.inverse_transform(x)\n",
    "        seq = ''.join(chars_list)\n",
    "        return seq\n",
    "    \n",
    "#     def read_harry_potter_data():\n",
    "        "
   ]
  },
  {
   "cell_type": "markdown",
   "metadata": {},
   "source": [
    "## Processing Data"
   ]
  },
  {
   "cell_type": "code",
   "execution_count": 45,
   "metadata": {},
   "outputs": [
    {
     "data": {
      "text/plain": [
       "'asda'"
      ]
     },
     "execution_count": 45,
     "metadata": {},
     "output_type": "execute_result"
    }
   ],
   "source": [
    "book_data = open('goblet_book.txt','r').read()\n",
    "book_chars = list(set(book_data))\n",
    "rnn = RNN()\n",
    "rnn.init_one_hot(book_chars)\n",
    "\n",
    "# test one hot encoding\n",
    "y = rnn.one_hot_encode('asda')\n",
    "recovered = rnn.one_hot_to_characters(y)\n",
    "recovered"
   ]
  },
  {
   "cell_type": "markdown",
   "metadata": {},
   "source": [
    "## Synthesising text from RNN"
   ]
  },
  {
   "cell_type": "code",
   "execution_count": null,
   "metadata": {},
   "outputs": [],
   "source": []
  },
  {
   "cell_type": "markdown",
   "metadata": {},
   "source": [
    "## Synthesising Donald Trump tweets"
   ]
  },
  {
   "cell_type": "code",
   "execution_count": null,
   "metadata": {},
   "outputs": [],
   "source": []
  }
 ],
 "metadata": {
  "kernelspec": {
   "display_name": "venv-anns",
   "language": "python",
   "name": "venv-anns"
  },
  "language_info": {
   "codemirror_mode": {
    "name": "ipython",
    "version": 3
   },
   "file_extension": ".py",
   "mimetype": "text/x-python",
   "name": "python",
   "nbconvert_exporter": "python",
   "pygments_lexer": "ipython3",
   "version": "3.6.7"
  }
 },
 "nbformat": 4,
 "nbformat_minor": 2
}
